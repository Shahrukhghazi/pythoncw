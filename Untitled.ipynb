{
 "cells": [
  {
   "cell_type": "code",
   "execution_count": 20,
   "metadata": {},
   "outputs": [
    {
     "name": "stdout",
     "output_type": "stream",
     "text": [
      "0 : shahrukh\n",
      "1 : shahrukh\n",
      "2 : shahrukh\n",
      "3 : shahrukh\n",
      "4 : shahrukh\n"
     ]
    }
   ],
   "source": [
    "for a in range(0,5):\n",
    "    print(a,\":\",\"shahrukh\")"
   ]
  },
  {
   "cell_type": "code",
   "execution_count": 26,
   "metadata": {},
   "outputs": [
    {
     "name": "stdout",
     "output_type": "stream",
     "text": [
      "Maya\n",
      "Mahira\n"
     ]
    }
   ],
   "source": [
    "for a in [\"Maya\",\"Mahira\"]:\n",
    "    print(a)\n"
   ]
  },
  {
   "cell_type": "code",
   "execution_count": 30,
   "metadata": {},
   "outputs": [
    {
     "name": "stdout",
     "output_type": "stream",
     "text": [
      "11 is odd\n",
      "13 is odd\n",
      "14 is even\n",
      "15 is odd\n",
      "133 is odd\n",
      "166 is even\n",
      "12232 is even\n",
      "1666 is even\n"
     ]
    }
   ],
   "source": [
    "numberlist=[11,13,14,15,133,166,12232,1666]\n",
    "for members in numberlist:\n",
    "    if members%2 !=0:\n",
    "        print(str(members) +\" is odd\")\n",
    "    else:\n",
    "        print(str(members)+\" is even\")"
   ]
  },
  {
   "cell_type": "code",
   "execution_count": 42,
   "metadata": {},
   "outputs": [
    {
     "name": "stdout",
     "output_type": "stream",
     "text": [
      "[11, 13, 15, 133]These are odd numbers and [14, 166, 12232, 1666]These are even numbers\n"
     ]
    }
   ],
   "source": [
    "odd=[]\n",
    "even=[]\n",
    "numberlist=[11,13,14,15,133,166,12232,1666]\n",
    "for members in numberlist:\n",
    "    if members%2 !=0:\n",
    "        odd.append(members)\n",
    "    else:\n",
    "        even.append(members)\n",
    "        \n",
    "print(str(odd) + \"These are odd numbers and \" + str(even) + \"These are even numbers\")"
   ]
  }
 ],
 "metadata": {
  "kernelspec": {
   "display_name": "Python 3",
   "language": "python",
   "name": "python3"
  },
  "language_info": {
   "codemirror_mode": {
    "name": "ipython",
    "version": 3
   },
   "file_extension": ".py",
   "mimetype": "text/x-python",
   "name": "python",
   "nbconvert_exporter": "python",
   "pygments_lexer": "ipython3",
   "version": "3.7.1"
  }
 },
 "nbformat": 4,
 "nbformat_minor": 2
}
